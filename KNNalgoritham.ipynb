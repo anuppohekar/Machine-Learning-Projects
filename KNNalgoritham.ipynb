{
 "cells": [
  {
   "cell_type": "code",
   "execution_count": 5,
   "metadata": {},
   "outputs": [
    {
     "name": "stdout",
     "output_type": "stream",
     "text": [
      "(180, 3)\n",
      "           Income    Lot_Size\n",
      "count  180.000000  180.000000\n",
      "mean    58.383333   69.361111\n",
      "std     16.469126   29.641200\n",
      "min     34.000000   20.000000\n",
      "25%     44.000000   42.750000\n",
      "50%     56.000000   69.000000\n",
      "75%     73.000000   93.750000\n",
      "max     89.000000  124.000000\n"
     ]
    }
   ],
   "source": [
    "# KNN implementation  with RidingMowers data\n",
    "import numpy as np\n",
    "import matplotlib.pyplot as plt\n",
    "import pandas as pd\n",
    "import seaborn as sns\n",
    "rm = pd.read_csv(\"RidingMowers.csv\")\n",
    "print(rm.shape)\n",
    "print(rm.describe())"
   ]
  },
  {
   "cell_type": "markdown",
   "metadata": {},
   "source": [
    "rm.head()"
   ]
  },
  {
   "cell_type": "code",
   "execution_count": 6,
   "metadata": {},
   "outputs": [
    {
     "data": {
      "text/html": [
       "<div>\n",
       "<style scoped>\n",
       "    .dataframe tbody tr th:only-of-type {\n",
       "        vertical-align: middle;\n",
       "    }\n",
       "\n",
       "    .dataframe tbody tr th {\n",
       "        vertical-align: top;\n",
       "    }\n",
       "\n",
       "    .dataframe thead th {\n",
       "        text-align: right;\n",
       "    }\n",
       "</style>\n",
       "<table border=\"1\" class=\"dataframe\">\n",
       "  <thead>\n",
       "    <tr style=\"text-align: right;\">\n",
       "      <th></th>\n",
       "      <th>Income</th>\n",
       "      <th>Lot_Size</th>\n",
       "      <th>Response</th>\n",
       "    </tr>\n",
       "  </thead>\n",
       "  <tbody>\n",
       "    <tr>\n",
       "      <th>0</th>\n",
       "      <td>34</td>\n",
       "      <td>26</td>\n",
       "      <td>Not Bought</td>\n",
       "    </tr>\n",
       "    <tr>\n",
       "      <th>1</th>\n",
       "      <td>34</td>\n",
       "      <td>40</td>\n",
       "      <td>Not Bought</td>\n",
       "    </tr>\n",
       "    <tr>\n",
       "      <th>2</th>\n",
       "      <td>34</td>\n",
       "      <td>46</td>\n",
       "      <td>Not Bought</td>\n",
       "    </tr>\n",
       "    <tr>\n",
       "      <th>3</th>\n",
       "      <td>34</td>\n",
       "      <td>48</td>\n",
       "      <td>Not Bought</td>\n",
       "    </tr>\n",
       "    <tr>\n",
       "      <th>4</th>\n",
       "      <td>34</td>\n",
       "      <td>53</td>\n",
       "      <td>Not Bought</td>\n",
       "    </tr>\n",
       "  </tbody>\n",
       "</table>\n",
       "</div>"
      ],
      "text/plain": [
       "   Income  Lot_Size    Response\n",
       "0      34        26  Not Bought\n",
       "1      34        40  Not Bought\n",
       "2      34        46  Not Bought\n",
       "3      34        48  Not Bought\n",
       "4      34        53  Not Bought"
      ]
     },
     "execution_count": 6,
     "metadata": {},
     "output_type": "execute_result"
    }
   ],
   "source": [
    "rm.head()"
   ]
  },
  {
   "cell_type": "code",
   "execution_count": 7,
   "metadata": {},
   "outputs": [
    {
     "name": "stderr",
     "output_type": "stream",
     "text": [
      "/Users/anuppohekar/opt/anaconda3/lib/python3.8/site-packages/seaborn/axisgrid.py:2071: UserWarning: The `size` parameter has been renamed to `height`; please update your code.\n",
      "  warnings.warn(msg, UserWarning)\n"
     ]
    },
    {
     "data": {
      "text/plain": [
       "<Figure size 360x360 with 0 Axes>"
      ]
     },
     "metadata": {},
     "output_type": "display_data"
    },
    {
     "data": {
      "image/png": "[encoded data removed]",
      "text/plain": [
       "<Figure size 452.375x360 with 1 Axes>"
      ]
     },
     "metadata": {
      "needs_background": "light"
     },
     "output_type": "display_data"
    }
   ],
   "source": [
    "plt.figure(figsize=(5,5))\n",
    "sns.pairplot(x_vars=[\"Lot_Size\"], y_vars=[\"Income\"], data=rm, hue=\"Response\", size=5)# you can change the size and check\n",
    "plt.show()"
   ]
  },
  {
   "cell_type": "code",
   "execution_count": 9,
   "metadata": {},
   "outputs": [
    {
     "name": "stdout",
     "output_type": "stream",
     "text": [
      "   Income  Lot_Size\n",
      "0      34        26\n",
      "1      34        40\n",
      "2      34        46\n",
      "3      34        48\n",
      "4      34        53\n",
      "     Response\n",
      "0  Not Bought\n",
      "1  Not Bought\n",
      "2  Not Bought\n",
      "3  Not Bought\n",
      "4  Not Bought\n"
     ]
    }
   ],
   "source": [
    "X= rm[['Income','Lot_Size']]\n",
    "y=pd.DataFrame(rm['Response'])\n",
    "print(X.head())\n",
    "print(y.head())"
   ]
  },
  {
   "cell_type": "code",
   "execution_count": 10,
   "metadata": {},
   "outputs": [
    {
     "name": "stdout",
     "output_type": "stream",
     "text": [
      "Done\n"
     ]
    }
   ],
   "source": [
    "# this code was bimistake deleted\n",
    "from sklearn.model_selection import train_test_split\n",
    "X_train, X_test, y_train, y_test = train_test_split(principalDf, dataset['Class'],test_size=0.30, random_state=0)\n"
   ]
  },
  {
   "cell_type": "code",
   "execution_count": 15,
   "metadata": {},
   "outputs": [
    {
     "name": "stderr",
     "output_type": "stream",
     "text": [
      "<ipython-input-15-4c8970764b91>:4: DataConversionWarning: A column-vector y was passed when a 1d array was expected. Please change the shape of y to (n_samples, ), for example using ravel().\n",
      "  classifier.fit(X_train, y_train)\n"
     ]
    },
    {
     "data": {
      "text/plain": [
       "KNeighborsClassifier()"
      ]
     },
     "execution_count": 15,
     "metadata": {},
     "output_type": "execute_result"
    }
   ],
   "source": [
    "#Create KNN classifier K=5 assumption\n",
    "from sklearn .neighbors import KNeighborsClassifier\n",
    "classifier = KNeighborsClassifier(n_neighbors=5) # we can try K = 7\n",
    "classifier.fit(X_train, y_train)"
   ]
  },
  {
   "cell_type": "code",
   "execution_count": 16,
   "metadata": {},
   "outputs": [],
   "source": [
    "# Make predictions for test data - bimistake code has changed nedd to type again checking the lecture\n",
    "y_pred = model.predict(X_test) # you have to use while loop in python and then keep checking the accuracy- try it later on"
   ]
  },
  {
   "cell_type": "code",
   "execution_count": 17,
   "metadata": {},
   "outputs": [
    {
     "name": "stdout",
     "output_type": "stream",
     "text": [
      "[[24  1]\n",
      " [ 0 29]]\n",
      "Test  Accuracy:0.981481\n"
     ]
    }
   ],
   "source": [
    "# Evaluation\n",
    "from sklearn.metrics import classification_report, confusion_matrix\n",
    "print(confusion_matrix(y_test, y_pred))\n",
    "from sklearn.metrics import accuracy_score\n",
    "accur=accuracy_score(y_test, y_pred)\n",
    "print(\"Test  Accuracy:{:.6f}\".format(accur))"
   ]
  },
  {
   "cell_type": "code",
   "execution_count": null,
   "metadata": {},
   "outputs": [],
   "source": [
    "# code for putting in Loop\n",
    "# you can also use Titanic dataset for above algoritham\n",
    "#From Sudhir Khobragade to Everyone: (5:46 pm)\n",
    "#i = 1\n",
    "#while i < 50:\n",
    "#  classifier = KNeighborsClassifier(n_neighbors=i)\n",
    "#  print(classifier)\n",
    "#  classifier.fit(X_train, y_train)\n",
    "#  y_pred=classifier.predict(X_test)\n",
    "#  cnf_matrix=metrics.confusion_matrix(y_test,y_pred)\n",
    "#  cnf_matrix\n",
    "#  i += 2 ",
    "\n",
    "#From Sudhir Khobragade to Everyone: (5:48 pm)\n",
    "# ",
    "i = 1\n",
    "#while i < 50:\n",
    "#  classifier = KNeighborsClassifier(n_neighbors=i)\n",
    "#  print(classifier)\n",
    "#  classifier.fit(X_train, y_train)\n",
    "#  y_pred=classifier.predict(X_test)\n",
    "#    acc=[]\n",
    "#    acc.append(metrics.accuracy_score(y_test,y_pred))\n",
    "#  print(\"Accuracy of model is : \",metrics.accuracy_score(y_test,y_pred))\n",
    "3  i += 2"
   ]
  }
 ],
 "metadata": {
  "kernelspec": {
   "display_name": "Python 3",
   "language": "python",
   "name": "python3"
  },
  "language_info": {
   "codemirror_mode": {
    "name": "ipython",
    "version": 3
   },
   "file_extension": ".py",
   "mimetype": "text/x-python",
   "name": "python",
   "nbconvert_exporter": "python",
   "pygments_lexer": "ipython3",
   "version": "3.8.3"
  }
 },
 "nbformat": 4,
 "nbformat_minor": 4
}
