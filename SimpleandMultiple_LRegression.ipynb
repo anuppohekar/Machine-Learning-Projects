{
 "cells": [
  {
   "cell_type": "code",
   "execution_count": 3,
   "metadata": {},
   "outputs": [
    {
     "data": {
      "image/png": "[encoded data removed]",
      "text/plain": [
       "<Figure size 432x288 with 1 Axes>"
      ]
     },
     "metadata": {
      "needs_background": "light"
     },
     "output_type": "display_data"
    }
   ],
   "source": [
    "import pandas as pd\n",
    "from matplotlib import pyplot as plt\n",
    "burger=pd.read_csv('Burger.csv')\n",
    "plt.scatter(burger.Promote,burger.Sales)\n",
    "plt.title('Scatter Chart')\n",
    "plt.xlabel('Promotion Expenses')\n",
    "plt.ylabel('Sales Revenue')\n",
    "plt.show()"
   ]
  },
  {
   "cell_type": "code",
   "execution_count": 7,
   "metadata": {},
   "outputs": [
    {
     "name": "stdout",
     "output_type": "stream",
     "text": [
      "coefient: [[23.50640302]]\n",
      "Intercept: [5.48586536]\n",
      "R square : 0.9888148131886373\n"
     ]
    }
   ],
   "source": [
    "#Liner Regression for burger dataset\n",
    "import pandas as pd\n",
    "import numpy as np\n",
    "from sklearn import linear_model\n",
    "burger=pd.read_csv('Burger.csv')\n",
    "X=pd.DataFrame(burger['Promote']) # only one Independent variable simple linear regression\n",
    "y=pd.DataFrame(burger['Sales'])\n",
    "lm=linear_model.LinearRegression()\n",
    "model=lm.fit(X,y)\n",
    "print('coefient:',lm.coef_)\n",
    "print('Intercept:',lm.intercept_)\n",
    "print('R square :',lm.score(X,y))"
   ]
  },
  {
   "cell_type": "code",
   "execution_count": 9,
   "metadata": {},
   "outputs": [
    {
     "name": "stdout",
     "output_type": "stream",
     "text": [
      "   Promote         Pred\n",
      "0       56  1321.844435\n",
      "1        6   146.524283\n",
      "2       25   593.145941\n",
      "3       46  1086.780404\n",
      "4       90  2121.062137\n"
     ]
    }
   ],
   "source": [
    "#use lm model for prediction\n",
    "test_data=[56,6,25,46,90]\n",
    "df_test =pd.DataFrame(test_data,columns=['Promote'])\n",
    "predict = lm.predict(df_test)\n",
    "#combine results in one data frame\n",
    "df_pred01= pd.DataFrame(data=predict,columns=['Pred'])\n",
    "frames = [df_test,df_pred01]\n",
    "df_new = pd.concat(frames, axis=1)\n",
    "print(df_new)"
   ]
  },
  {
   "cell_type": "code",
   "execution_count": 11,
   "metadata": {},
   "outputs": [
    {
     "name": "stdout",
     "output_type": "stream",
     "text": [
      "<bound method DataFrame.info of   Branch  Home  Automobile  Operating_Cost\n",
      "0    B01   400        1200          124000\n",
      "1    B02   350         360           71000\n",
      "2    B03   600         800          136000\n",
      "3    B04   800        1800          219000\n",
      "4    B05   900        1600          230000\n",
      "5    B06   200        1000           75000\n",
      "6    B07   120         900           56000\n",
      "7    B08   340        1100          110000\n",
      "8    B09   490         900          120000\n",
      "9    B10   700         800          144000>\n",
      "coefient: [[167.32668857  54.10529229]]\n",
      "Intercept: [-10084.21313095]\n",
      "R square : 0.9967183769510445\n"
     ]
    }
   ],
   "source": [
    "#Multi Linear Regression with Auto Insurance File\n",
    "insure=pd.read_csv('Insure_auto.csv')\n",
    "#X=pd.DataFrame(insure['Home'])\n",
    "print(insure.info)\n",
    "X = insure[['Home','Automobile']] # Independent Variable in multiple linear regrssion we have multiple variables\n",
    "y = insure[['Operating_Cost']] # Dependent Variable\n",
    "lm=linear_model.LinearRegression()\n",
    "model=lm.fit(X,y)\n",
    "print('coefient:',lm.coef_)\n",
    "print('Intercept:',lm.intercept_)\n",
    "print('R square :',lm.score(X,y))"
   ]
  },
  {
   "cell_type": "code",
   "execution_count": null,
   "metadata": {},
   "outputs": [],
   "source": [
    "# operating Cost = -10084.213 + 167.327*home+54.105*automobile\n"
   ]
  },
  {
   "cell_type": "code",
   "execution_count": 12,
   "metadata": {},
   "outputs": [
    {
     "name": "stdout",
     "output_type": "stream",
     "text": [
      "[[67958.0330921]]\n"
     ]
    }
   ],
   "source": [
    "# Create test_data with two columns\n",
    "home = [350]\n",
    "auto = [360]\n",
    "newdata = pd.DataFrame({\"Home\":home, \"Automoblie\" :auto})\n",
    "predict = lm.predict(newdata)\n",
    "print(predict)"
   ]
  },
  {
   "cell_type": "code",
   "execution_count": null,
   "metadata": {},
   "outputs": [],
   "source": [
    "# now we have to put all the value and check the predict value\n",
    "# Home  Automobile ",
    "\n",
    "#0   400        1200 ",
    "\n",
    "#1   350         360 ",
    "\n",
    "#2   600         800 ",
    "\n",
    "#3   800        1800 ",
    "\n",
    "#4   900        1600 ",
    "\n",
    "#5   200        1000 ",
    "\n",
    "#6   120         900 ",
    "\n",
    "#7   340        1100 ",
    "\n",
    "#8   490         900 ",
    "\n",
    "#9   700         800 ",
    "\n",
    "\n",
    "#[[121772.81304045] ",
    " \n",
    "# [ 67958.0330921 ] ",
    " \n",
    "# [133596.03384074] ",
    " \n",
    "# [221166.6638406 ] ",
    " \n",
    "# [227078.27424075] ",
    " \n",
    "# [ 77486.41686891] ",
    " \n",
    "# [ 58689.75255459] ",
    " \n",
    "#[106322.68249757] ",
    " \n",
    "# [120600.62732633] ",
    " \n",
    "# [150328.70269797]] ",
    "\n",
    "\n",
    "# remeber R square should be more then 0.5 or you have to discard the model"
   ]
  },
  {
   "cell_type": "code",
   "execution_count": null,
   "metadata": {},
   "outputs": [],
   "source": []
  }
 ],
 "metadata": {
  "kernelspec": {
   "display_name": "Python 3",
   "language": "python",
   "name": "python3"
  },
  "language_info": {
   "codemirror_mode": {
    "name": "ipython",
    "version": 3
   },
   "file_extension": ".py",
   "mimetype": "text/x-python",
   "name": "python",
   "nbconvert_exporter": "python",
   "pygments_lexer": "ipython3",
   "version": "3.8.3"
  }
 },
 "nbformat": 4,
 "nbformat_minor": 4
}
